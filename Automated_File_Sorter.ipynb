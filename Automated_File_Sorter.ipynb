{
 "cells": [
  {
   "cell_type": "code",
   "execution_count": 23,
   "metadata": {},
   "outputs": [],
   "source": [
    "# Importiere os für Operation System und shutil für Ordner-Manipulation\n",
    "import os, shutil"
   ]
  },
  {
   "cell_type": "code",
   "execution_count": 24,
   "metadata": {},
   "outputs": [],
   "source": [
    "# Ordnerverzeichnis\n",
    "path = 'path/Automated_File_Sorter/'"
   ]
  },
  {
   "cell_type": "code",
   "execution_count": 25,
   "metadata": {},
   "outputs": [],
   "source": [
    "# Überblick über die Dateien in diesem Ordner\n",
    "file_names = os.listdir(path)"
   ]
  },
  {
   "cell_type": "code",
   "execution_count": 28,
   "metadata": {},
   "outputs": [],
   "source": [
    "# Mit For-Schleife wird geprüft, ob folgende Ordner mit der Endung vorhanden sind, wenn nicht, dann füge sie hinzu\n",
    "folder_names = ['csv files', 'image files', 'text files', 'excel files']\n",
    "\n",
    "for loop in range(0,4):\n",
    "    if not os.path.exists(path+folder_names[loop]):\n",
    "        # print((path+folder_names[loop]))\n",
    "        os.makedirs((path+folder_names[loop]))\n",
    "\n",
    "# Mit For-Schleife wird geprüft, ob folgende Dateien mit der Endung vorhanden sind, verschiebe diese vom alten zum neuen Ordner\n",
    "for file in file_names:\n",
    "    if '.csv' in file and not os.path.exists(path+'csv files/'+file):\n",
    "        shutil.move(path+file, path+'csv files/'+file)\n",
    "    elif '.jpg' in file and not os.path.exists(path+'image files/'+file):\n",
    "        shutil.move(path+file, path+'image files/'+file)\n",
    "    elif '.png' in file and not os.path.exists(path+'image files/'+file):\n",
    "        shutil.move(path+file, path+'image files/'+file)\n",
    "    elif '.txt' in file and not os.path.exists(path+'text files/'+file):\n",
    "        shutil.move(path+file, path+'text files/'+file)\n",
    "    elif '.docx' in file and not os.path.exists(path+'text files/'+file):\n",
    "        shutil.move(path+file, path+'text files/'+file)\n",
    "    elif '.xlsx' in file and not os.path.exists(path+'excel files/'+file):\n",
    "        shutil.move(path+file, path+'excel files/'+file)"
   ]
  },
  {
   "cell_type": "code",
   "execution_count": null,
   "metadata": {},
   "outputs": [],
   "source": []
  }
 ],
 "metadata": {
  "kernelspec": {
   "display_name": "Python 3",
   "language": "python",
   "name": "python3"
  },
  "language_info": {
   "codemirror_mode": {
    "name": "ipython",
    "version": 3
   },
   "file_extension": ".py",
   "mimetype": "text/x-python",
   "name": "python",
   "nbconvert_exporter": "python",
   "pygments_lexer": "ipython3",
   "version": "3.7.3"
  }
 },
 "nbformat": 4,
 "nbformat_minor": 5
}
