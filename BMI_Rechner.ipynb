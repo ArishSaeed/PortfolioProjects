{
 "cells": [
  {
   "cell_type": "code",
   "execution_count": null,
   "metadata": {},
   "outputs": [],
   "source": [
    "# Formel für BMI Berechnung: kg/m^2"
   ]
  },
  {
   "cell_type": "code",
   "execution_count": null,
   "metadata": {},
   "outputs": [],
   "source": [
    "\"\"\"\n",
    "BMI Zuordnung:\n",
    "BMI < 18,5 \tUntergewicht\n",
    "BMI 18,5 – 24,9 \tNormalgewicht\n",
    "BMI 25 – 29,9 kg/m2 \tÜbergewicht\n",
    "BMI 30 – 34,9 kg/m2 \tAdipositas Grad I\n",
    "BMI 35 – 39,9 kg/m2 \tAdipositas Grad II\n",
    "BMI ≥ 40 kg/m2 \tAdipositas Grad III \n",
    "\"\"\""
   ]
  },
  {
   "cell_type": "code",
   "execution_count": 25,
   "metadata": {},
   "outputs": [
    {
     "name": "stdout",
     "output_type": "stream",
     "text": [
      "Tragen Sie Ihren Namen: Arish\n",
      "Tragen Sie Ihr Gewicht in kg ein (z.B. 80): 55\n",
      "Tragen Sie Ihre Größe in m ein (z.B. 1.79): 1.65\n",
      "20.202020202020204\n",
      "Arish, Sie haben Normalgewicht.\n"
     ]
    }
   ],
   "source": [
    "# Programm für BMI Rechner erstellen\n",
    "name = input('Tragen Sie Ihren Namen: ')\n",
    "weight = float(input('Tragen Sie Ihr Gewicht in kg ein (z.B. 80): '))\n",
    "height = float(input('Tragen Sie Ihre Größe in m ein (z.B. 1.79): '))\n",
    "BMI = weight/height**2\n",
    "print(BMI)\n",
    "\n",
    "if BMI > 0:\n",
    "    if (BMI<18.5):\n",
    "        print(name+', Sie haben Untergewicht.')\n",
    "    elif (BMI<=24.9):\n",
    "        print(name+', Sie haben Normalgewicht.')\n",
    "    elif (BMI<=29.9):\n",
    "        print(name+', Sie haben Übergewicht.')\n",
    "    elif (BMI<=34.9):\n",
    "        print(name+', Sie haben Adipositas Grad I.')\n",
    "    elif (BMI<=39.9):\n",
    "        print(name+', Sie haben Adipositas Grad II.')\n",
    "    elif (BMI>40):\n",
    "        print(name+', Sie haben Adipositas Grad III.')\n",
    "else:\n",
    "    print('Geben Sie bitte korrekte Zahlen an.')"
   ]
  },
  {
   "cell_type": "code",
   "execution_count": null,
   "metadata": {},
   "outputs": [],
   "source": []
  }
 ],
 "metadata": {
  "kernelspec": {
   "display_name": "Python 3",
   "language": "python",
   "name": "python3"
  },
  "language_info": {
   "codemirror_mode": {
    "name": "ipython",
    "version": 3
   },
   "file_extension": ".py",
   "mimetype": "text/x-python",
   "name": "python",
   "nbconvert_exporter": "python",
   "pygments_lexer": "ipython3",
   "version": "3.7.3"
  }
 },
 "nbformat": 4,
 "nbformat_minor": 5
}
